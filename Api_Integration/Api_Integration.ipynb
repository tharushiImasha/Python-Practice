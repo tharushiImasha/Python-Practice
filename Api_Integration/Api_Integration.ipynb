{
 "cells": [
  {
   "cell_type": "code",
   "execution_count": 7,
   "metadata": {},
   "outputs": [
    {
     "name": "stdout",
     "output_type": "stream",
     "text": [
      "Successfully fetched the page\n",
      "{'latitude': 51.5, 'longitude': -0.120000124, 'generationtime_ms': 0.05793571472167969, 'utc_offset_seconds': 0, 'timezone': 'GMT', 'timezone_abbreviation': 'GMT', 'elevation': 16.0, 'current_units': {'time': 'iso8601', 'interval': 'seconds', 'temperature_2m': '°C', 'wind_speed_10m': 'km/h'}, 'current': {'time': '2025-01-09T08:45', 'interval': 900, 'temperature_2m': 0.7, 'wind_speed_10m': 6.3}}\n"
     ]
    }
   ],
   "source": [
    "import requests\n",
    "\n",
    "base_url = \"https://api.open-meteo.com/v1/forecast\"\n",
    "\n",
    "def fetch_weather_data(latitude, longitude, current_info):\n",
    "\n",
    "    params = {\n",
    "        'latitude': latitude,\n",
    "        'longitude': longitude,\n",
    "        'current': current_info\n",
    "    }\n",
    "\n",
    "    response = requests.get(base_url, params=params)\n",
    "\n",
    "    if response.status_code == 200:\n",
    "        print(\"Successfully fetched the page\")\n",
    "        \n",
    "        return response.json()\n",
    "        \n",
    "    else:\n",
    "        print(\"Some error happend while fetching the page\")\n",
    "        return None\n",
    "\n",
    "print(fetch_weather_data(51.5074, -0.1278, 'temperature_2m,wind_speed_10m'))"
   ]
  },
  {
   "cell_type": "code",
   "execution_count": 27,
   "metadata": {},
   "outputs": [
    {
     "name": "stdout",
     "output_type": "stream",
     "text": [
      "Current Weather Data -  Temperature :  0.8 and Wind :  6.8\n"
     ]
    }
   ],
   "source": [
    "import requests\n",
    "\n",
    "base_url = \"https://api.open-meteo.com/v1/forecast\"\n",
    "\n",
    "def fetch_weather_data(latitude, longitude, current_info):\n",
    "\n",
    "    params = {\n",
    "        'latitude': latitude,\n",
    "        'longitude': longitude,\n",
    "        'current': current_info\n",
    "    }\n",
    "\n",
    "    response = requests.get(base_url, params=params)\n",
    "\n",
    "    if response.status_code == 200:        \n",
    "        pass_weather_data(response.json())\n",
    "        \n",
    "    else:\n",
    "        print(\"Some error happend while fetching the page\")\n",
    "        return None\n",
    "    \n",
    "def pass_weather_data(data):\n",
    "\n",
    "    if data is None or data['current'] is None:\n",
    "        print(\"No data available\")\n",
    "\n",
    "    else:\n",
    "        temp = data['current']['temperature_2m']\n",
    "        \n",
    "        wind = data['current']['wind_speed_10m']\n",
    "\n",
    "        print(\"Current Weather Data - \", \"Temperature : \", temp, \"and Wind : \", wind)\n",
    "        \n",
    "\n",
    "fetch_weather_data(51.5074, -0.1278, 'temperature_2m,wind_speed_10m')"
   ]
  }
 ],
 "metadata": {
  "kernelspec": {
   "display_name": ".venv",
   "language": "python",
   "name": "python3"
  },
  "language_info": {
   "codemirror_mode": {
    "name": "ipython",
    "version": 3
   },
   "file_extension": ".py",
   "mimetype": "text/x-python",
   "name": "python",
   "nbconvert_exporter": "python",
   "pygments_lexer": "ipython3",
   "version": "3.13.0"
  }
 },
 "nbformat": 4,
 "nbformat_minor": 2
}
