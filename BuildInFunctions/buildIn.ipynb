{
 "cells": [
  {
   "cell_type": "markdown",
   "metadata": {},
   "source": [
    "abs()"
   ]
  },
  {
   "cell_type": "code",
   "execution_count": 1,
   "metadata": {},
   "outputs": [
    {
     "name": "stdout",
     "output_type": "stream",
     "text": [
      "20\n"
     ]
    }
   ],
   "source": [
    "print(abs(-20))"
   ]
  },
  {
   "cell_type": "markdown",
   "metadata": {},
   "source": [
    "map()"
   ]
  },
  {
   "cell_type": "code",
   "execution_count": 3,
   "metadata": {},
   "outputs": [
    {
     "name": "stdout",
     "output_type": "stream",
     "text": [
      "[1, 25, 64, 36] <class 'list'>\n"
     ]
    }
   ],
   "source": [
    "def cal_squre(x):\n",
    "    return x*x\n",
    "\n",
    "my_list = [1, 5, 8, 6]\n",
    "\n",
    "result = list(map(cal_squre, my_list))\n",
    "\n",
    "print(result, type(result))"
   ]
  },
  {
   "cell_type": "code",
   "execution_count": 4,
   "metadata": {},
   "outputs": [
    {
     "name": "stdout",
     "output_type": "stream",
     "text": [
      "[14, 11, 11, 7]\n"
     ]
    }
   ],
   "source": [
    "my_list_1 = [10, 8, 5, 6]\n",
    "my_list_2 = [4, 3, 6, 1]\n",
    "\n",
    "def cal_list(num1, num2):\n",
    "    return num1 + num2\n",
    "\n",
    "result = list(map(cal_list, my_list_1, my_list_2))\n",
    "print(result)"
   ]
  },
  {
   "cell_type": "code",
   "execution_count": 5,
   "metadata": {},
   "outputs": [
    {
     "name": "stdout",
     "output_type": "stream",
     "text": [
      "[68.0, 86.0, 77.0, 104.0, 59.0]\n"
     ]
    }
   ],
   "source": [
    "temperatures = [20, 30, 25, 40, 15]\n",
    "\n",
    "def convert_temp(temp):\n",
    "    return temp * 9/5 + 32\n",
    "\n",
    "result = list(map(convert_temp, temperatures))\n",
    "print(result)"
   ]
  },
  {
   "cell_type": "markdown",
   "metadata": {},
   "source": [
    "filter()"
   ]
  },
  {
   "cell_type": "code",
   "execution_count": 7,
   "metadata": {},
   "outputs": [
    {
     "name": "stdout",
     "output_type": "stream",
     "text": [
      "[2, 6, 8]\n"
     ]
    }
   ],
   "source": [
    "my_list = [2, 5, 6, 9, 7, 8]\n",
    "\n",
    "def find_even(x):\n",
    "    return x%2 == 0\n",
    "\n",
    "print(list(filter(find_even, my_list)))"
   ]
  },
  {
   "cell_type": "markdown",
   "metadata": {},
   "source": [
    "LAMBDA FUNCTION"
   ]
  },
  {
   "cell_type": "code",
   "execution_count": 8,
   "metadata": {},
   "outputs": [
    {
     "name": "stdout",
     "output_type": "stream",
     "text": [
      "7\n"
     ]
    }
   ],
   "source": [
    "add = lambda x,y : x + y\n",
    "\n",
    "print(add(3, 4))"
   ]
  },
  {
   "cell_type": "code",
   "execution_count": 9,
   "metadata": {},
   "outputs": [
    {
     "name": "stdout",
     "output_type": "stream",
     "text": [
      "13\n"
     ]
    }
   ],
   "source": [
    "result = (lambda x, y : x + y)(5, 8)\n",
    "\n",
    "print(result)"
   ]
  },
  {
   "cell_type": "code",
   "execution_count": 10,
   "metadata": {},
   "outputs": [
    {
     "name": "stdout",
     "output_type": "stream",
     "text": [
      "25\n"
     ]
    }
   ],
   "source": [
    "result = (lambda x : x**2) (5)\n",
    "\n",
    "print(result)"
   ]
  },
  {
   "cell_type": "code",
   "execution_count": null,
   "metadata": {},
   "outputs": [
    {
     "name": "stdout",
     "output_type": "stream",
     "text": [
      "[('Alice', 23), ('Andrew', 25)]\n"
     ]
    }
   ],
   "source": [
    "people = [(\"Alice\", 23), (\"John\", 17), (\"Andrew\", 25), (\"Kate\", 15)]\n",
    "\n",
    "result = list(filter((lambda x : x[1] >= 18), people))\n",
    "\n",
    "print(result)"
   ]
  },
  {
   "cell_type": "markdown",
   "metadata": {},
   "source": [
    "Anonymouse function inside another function"
   ]
  },
  {
   "cell_type": "code",
   "execution_count": 30,
   "metadata": {},
   "outputs": [
    {
     "name": "stdout",
     "output_type": "stream",
     "text": [
      "6\n",
      "9\n"
     ]
    }
   ],
   "source": [
    "def my_func(n):\n",
    "    return lambda a : a*n\n",
    "\n",
    "my_doubler = my_func(2)\n",
    "my_tribler = my_func(3)\n",
    "\n",
    "print(my_doubler(3))\n",
    "print(my_tribler(3))"
   ]
  },
  {
   "cell_type": "code",
   "execution_count": 34,
   "metadata": {},
   "outputs": [
    {
     "name": "stdout",
     "output_type": "stream",
     "text": [
      "30\n"
     ]
    }
   ],
   "source": [
    "result = (lambda x, y : x if x > y else y) (10, 30)\n",
    "\n",
    "print(result)"
   ]
  },
  {
   "cell_type": "code",
   "execution_count": 51,
   "metadata": {},
   "outputs": [
    {
     "name": "stdout",
     "output_type": "stream",
     "text": [
      "6\n"
     ]
    }
   ],
   "source": [
    "def find_factorial(n):\n",
    "    fact = 1\n",
    "\n",
    "    if n == 0:\n",
    "        return 1\n",
    "\n",
    "    for i in range(1, n+1):\n",
    "        fact *= i\n",
    "    \n",
    "    return fact\n",
    "\n",
    "print(find_factorial(3))"
   ]
  }
 ],
 "metadata": {
  "kernelspec": {
   "display_name": "Python 3",
   "language": "python",
   "name": "python3"
  },
  "language_info": {
   "codemirror_mode": {
    "name": "ipython",
    "version": 3
   },
   "file_extension": ".py",
   "mimetype": "text/x-python",
   "name": "python",
   "nbconvert_exporter": "python",
   "pygments_lexer": "ipython3",
   "version": "3.13.0"
  }
 },
 "nbformat": 4,
 "nbformat_minor": 2
}
