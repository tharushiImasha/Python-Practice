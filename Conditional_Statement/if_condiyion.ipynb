{
 "cells": [
  {
   "cell_type": "code",
   "execution_count": 2,
   "metadata": {},
   "outputs": [
    {
     "name": "stdout",
     "output_type": "stream",
     "text": [
      "5\n",
      "<class 'str'>\n"
     ]
    }
   ],
   "source": [
    "x = input(\"Enter a number : \")\n",
    "print(x)\n",
    "print(type(x))"
   ]
  },
  {
   "cell_type": "code",
   "execution_count": 8,
   "metadata": {},
   "outputs": [
    {
     "name": "stdout",
     "output_type": "stream",
     "text": [
      "6  is even number\n"
     ]
    }
   ],
   "source": [
    "x = input(\"Enter a number : \")\n",
    "x = int(x)\n",
    "\n",
    "if (x % 2 == 0):\n",
    "    print(x, \" is even number\")\n",
    "else:\n",
    "    print(x, \" is odd number\")"
   ]
  },
  {
   "cell_type": "code",
   "execution_count": 16,
   "metadata": {},
   "outputs": [
    {
     "name": "stdout",
     "output_type": "stream",
     "text": [
      "14  is multiplication of 7\n"
     ]
    }
   ],
   "source": [
    "x = input(\"Enter a number : \")\n",
    "x = int(x)\n",
    "\n",
    "if x < 0:\n",
    "    print(x, \" is negative number\")\n",
    "elif (x == 0):\n",
    "    print(x, \" is nutrel\")\n",
    "elif (x % 7 == 0):\n",
    "    print(x, \" is multiplication of 7\")\n",
    "else:\n",
    "    print(x, \" is not multiplication of 7\")"
   ]
  },
  {
   "cell_type": "code",
   "execution_count": 17,
   "metadata": {},
   "outputs": [
    {
     "name": "stdout",
     "output_type": "stream",
     "text": [
      "x is less than y\n"
     ]
    }
   ],
   "source": [
    "x = input(\"Enter a number 1 : \")\n",
    "y = input(\"Enter a number 2 : \")\n",
    "\n",
    "x = int(x)\n",
    "y = int(y)\n",
    "\n",
    "if x == y:\n",
    "    print(\"x is equal to y\")\n",
    "elif (x > y):\n",
    "    print(\"x is greater than y\")\n",
    "else:\n",
    "    print(\"x is less than y\")"
   ]
  },
  {
   "cell_type": "code",
   "execution_count": 36,
   "metadata": {},
   "outputs": [
    {
     "name": "stdout",
     "output_type": "stream",
     "text": [
      "Grade is A\n"
     ]
    }
   ],
   "source": [
    "mark = input(\"Enter the marks : \")\n",
    "mark = int(mark)\n",
    "\n",
    "if mark < 0 or mark > 100:\n",
    "    print(\"Invalid Mark\")\n",
    "elif mark >= 85:\n",
    "    print(\"Grade is A\")\n",
    "elif mark >= 75:\n",
    "    print(\"Grade is B\")\n",
    "elif mark >= 65:\n",
    "    print(\"Grade is C\")\n",
    "elif mark >= 50:\n",
    "    print(\"Grade is D\")\n",
    "else:\n",
    "    print(\"Grade is F\")"
   ]
  },
  {
   "cell_type": "code",
   "execution_count": 39,
   "metadata": {},
   "outputs": [
    {
     "name": "stdout",
     "output_type": "stream",
     "text": [
      "Even \n"
     ]
    }
   ],
   "source": [
    "x = 10\n",
    "result = \"Even \" if x % 2 == 0 else \"Odd\"\n",
    "print(result)"
   ]
  }
 ],
 "metadata": {
  "kernelspec": {
   "display_name": "Python 3",
   "language": "python",
   "name": "python3"
  },
  "language_info": {
   "codemirror_mode": {
    "name": "ipython",
    "version": 3
   },
   "file_extension": ".py",
   "mimetype": "text/x-python",
   "name": "python",
   "nbconvert_exporter": "python",
   "pygments_lexer": "ipython3",
   "version": "3.13.0"
  }
 },
 "nbformat": 4,
 "nbformat_minor": 2
}
