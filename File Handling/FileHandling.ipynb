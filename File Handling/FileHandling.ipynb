{
 "cells": [
  {
   "cell_type": "markdown",
   "metadata": {},
   "source": [
    "READ"
   ]
  },
  {
   "cell_type": "code",
   "execution_count": 2,
   "metadata": {},
   "outputs": [
    {
     "name": "stdout",
     "output_type": "stream",
     "text": [
      "I love progarmming\n",
      "\n",
      "Hello world\n",
      "<class 'str'>\n"
     ]
    }
   ],
   "source": [
    "file_1 = open(\"my_file.txt\", 'r')\n",
    "\n",
    "content = file_1.read()\n",
    "\n",
    "print(content)\n",
    "print(type(content))\n",
    "\n",
    "file_1.close()"
   ]
  },
  {
   "cell_type": "code",
   "execution_count": 3,
   "metadata": {},
   "outputs": [
    {
     "name": "stdout",
     "output_type": "stream",
     "text": [
      "I love progarmming\n",
      "\n",
      "<class 'str'>\n"
     ]
    }
   ],
   "source": [
    "file_1 = open(\"my_file.txt\", 'r')\n",
    "\n",
    "content = file_1.readline()\n",
    "\n",
    "print(content)\n",
    "print(type(content))\n",
    "\n",
    "file_1.close()"
   ]
  },
  {
   "cell_type": "code",
   "execution_count": 4,
   "metadata": {},
   "outputs": [
    {
     "name": "stdout",
     "output_type": "stream",
     "text": [
      "['I love progarmming\\n', '\\n', 'Hello world']\n",
      "<class 'list'>\n"
     ]
    }
   ],
   "source": [
    "file_1 = open(\"my_file.txt\", 'r')\n",
    "\n",
    "content = file_1.readlines()\n",
    "\n",
    "print(content)\n",
    "print(type(content))\n",
    "\n",
    "file_1.close()"
   ]
  },
  {
   "cell_type": "markdown",
   "metadata": {},
   "source": [
    "WITH SATATEMENT\n",
    "WITHOUT CLOSE()"
   ]
  },
  {
   "cell_type": "code",
   "execution_count": 6,
   "metadata": {},
   "outputs": [
    {
     "name": "stdout",
     "output_type": "stream",
     "text": [
      "I love progarmming\n",
      "\n",
      "Hello world\n",
      "<class 'str'>\n"
     ]
    }
   ],
   "source": [
    "with open (\"my_file.txt\", 'r') as file:\n",
    "    content = file.read()\n",
    "\n",
    "    print(content)\n",
    "    print(type(content))"
   ]
  },
  {
   "cell_type": "markdown",
   "metadata": {},
   "source": [
    "WRITE"
   ]
  },
  {
   "cell_type": "code",
   "execution_count": 8,
   "metadata": {},
   "outputs": [],
   "source": [
    "with open (\"my_file_1.txt\", 'w') as file:\n",
    "    file.write(\"This is pretty \\n\")\n",
    "    file.write(\"Progarmming is fun\")"
   ]
  },
  {
   "cell_type": "code",
   "execution_count": 14,
   "metadata": {},
   "outputs": [],
   "source": [
    "with open (\"my_file_1.txt\", 'w') as file:\n",
    "    file.writelines([\"This is pretty \\n\",\"\\n\", \"Progarmming is fun\"])"
   ]
  },
  {
   "cell_type": "markdown",
   "metadata": {},
   "source": [
    "EXERSICE"
   ]
  },
  {
   "cell_type": "code",
   "execution_count": 7,
   "metadata": {},
   "outputs": [
    {
     "name": "stdout",
     "output_type": "stream",
     "text": [
      "John Doe, 125478923, John@example.com\n",
      "Kate feny, 557624525, kate@example.com\n",
      "abc, 125448, abc@gmail.com\n",
      "John Doe, 125478923, John@example.com\n",
      "Kate feny, 557624525, kate@example.com\n",
      "abc, 125448, abc@gmail.com\n",
      "kamal, 11558685, kamal@gmail.com\n"
     ]
    }
   ],
   "source": [
    "def getInputs():\n",
    "    input(\"Enter the requirement : (1 - Display all, 2 - Add new one, 3 - Exit)\")\n",
    "\n",
    "def getContact():\n",
    "    detail = input(\"Enter the name, phone number, email\")\n",
    "    return detail\n",
    "\n",
    "def addContact():\n",
    "    with open (\"contact.txt\", 'a') as file:\n",
    "        file.writelines([\"\\n\",getContact()])\n",
    "    \n",
    "def readContacts():\n",
    "    with open (\"contact.txt\", 'r') as file:\n",
    "        print(file.read())\n",
    "    \n",
    "condition = True\n",
    "\n",
    "while(condition):\n",
    "    requirement = input(\"Enter the requirement : (1 - Display all, 2 - Add new one, 3 - Exit)\")\n",
    "\n",
    "\n",
    "    if requirement == \"1\":\n",
    "        readContacts()\n",
    "    elif requirement == \"2\":\n",
    "        addContact()\n",
    "    elif requirement == \"3\":\n",
    "        condition = False\n",
    "        break\n",
    "    else:\n",
    "        print(\"Invalid input\")\n"
   ]
  }
 ],
 "metadata": {
  "kernelspec": {
   "display_name": "Python 3",
   "language": "python",
   "name": "python3"
  },
  "language_info": {
   "codemirror_mode": {
    "name": "ipython",
    "version": 3
   },
   "file_extension": ".py",
   "mimetype": "text/x-python",
   "name": "python",
   "nbconvert_exporter": "python",
   "pygments_lexer": "ipython3",
   "version": "3.13.0"
  }
 },
 "nbformat": 4,
 "nbformat_minor": 2
}
