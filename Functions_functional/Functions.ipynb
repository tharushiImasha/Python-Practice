{
 "cells": [
  {
   "cell_type": "code",
   "execution_count": 4,
   "metadata": {},
   "outputs": [
    {
     "data": {
      "text/plain": [
       "60"
      ]
     },
     "execution_count": 4,
     "metadata": {},
     "output_type": "execute_result"
    }
   ],
   "source": [
    "def calculate(width, height):\n",
    "    circumference = (width + height)*2\n",
    "    return circumference\n",
    "\n",
    "calculate(10, 20)"
   ]
  },
  {
   "cell_type": "code",
   "execution_count": 5,
   "metadata": {},
   "outputs": [
    {
     "name": "stdout",
     "output_type": "stream",
     "text": [
      "12.571428571428571\n"
     ]
    }
   ],
   "source": [
    "def cal_area(r):\n",
    "    return 22/7*r*r\n",
    "\n",
    "print(cal_area(2))"
   ]
  },
  {
   "cell_type": "markdown",
   "metadata": {},
   "source": [
    "DEFAULT ARGUMENTS"
   ]
  },
  {
   "cell_type": "code",
   "execution_count": 8,
   "metadata": {},
   "outputs": [
    {
     "name": "stdout",
     "output_type": "stream",
     "text": [
      "With default -  8\n",
      "Without default -  13\n"
     ]
    }
   ],
   "source": [
    "def add_num(a, b=5):\n",
    "    return a+b\n",
    "\n",
    "print(\"With default - \", add_num(3))\n",
    "print(\"Without default - \", add_num(3, 10))"
   ]
  },
  {
   "cell_type": "code",
   "execution_count": 10,
   "metadata": {},
   "outputs": [
    {
     "name": "stdout",
     "output_type": "stream",
     "text": [
      "8\n"
     ]
    }
   ],
   "source": [
    "def add_num(a, b=5, c=3):\n",
    "    return a+b+c\n",
    "\n",
    "print(add_num(3, 2))"
   ]
  },
  {
   "cell_type": "markdown",
   "metadata": {},
   "source": [
    "KEYWORD ARGUMENTS"
   ]
  },
  {
   "cell_type": "code",
   "execution_count": 11,
   "metadata": {},
   "outputs": [
    {
     "name": "stdout",
     "output_type": "stream",
     "text": [
      "5\n"
     ]
    }
   ],
   "source": [
    "def add_num(a, b):\n",
    "    return a+b\n",
    "\n",
    "print(add_num(b=3, a=2))"
   ]
  },
  {
   "cell_type": "markdown",
   "metadata": {},
   "source": [
    "==================================="
   ]
  },
  {
   "cell_type": "code",
   "execution_count": 17,
   "metadata": {},
   "outputs": [
    {
     "name": "stdout",
     "output_type": "stream",
     "text": [
      "189.0\n",
      "200.0\n"
     ]
    }
   ],
   "source": [
    "def calculate_cost(price, quantity, discount = 0, tax = 0):\n",
    "    total = price*quantity\n",
    "    discounted_price = total - (total*discount/100)\n",
    "    return discounted_price + (discounted_price*tax/100)\n",
    "\n",
    "print(calculate_cost(100, 2, 10, 5))\n",
    "print(calculate_cost(100, 2))"
   ]
  },
  {
   "cell_type": "markdown",
   "metadata": {},
   "source": [
    "ARBITRARY ARGUMANRTS"
   ]
  },
  {
   "cell_type": "markdown",
   "metadata": {},
   "source": [
    "1) ARBITRARY POSITIONAL ARGUMANRTS"
   ]
  },
  {
   "cell_type": "code",
   "execution_count": 2,
   "metadata": {},
   "outputs": [
    {
     "name": "stdout",
     "output_type": "stream",
     "text": [
      "(2, 5, 8, 9) <class 'tuple'>\n",
      "2\n",
      "5\n",
      "8\n",
      "9\n"
     ]
    }
   ],
   "source": [
    "def calculate(* args):\n",
    "    print(args, type(args))\n",
    "\n",
    "    for num in args:\n",
    "        print(num)\n",
    "\n",
    "calculate(2, 5, 8, 9)"
   ]
  },
  {
   "cell_type": "code",
   "execution_count": 8,
   "metadata": {},
   "outputs": [
    {
     "name": "stdout",
     "output_type": "stream",
     "text": [
      "Student's name :  Kamal\n",
      "Max mark :  96\n",
      "Min mark :  50\n",
      "Average mark :  71.4\n",
      "No grade available\n"
     ]
    }
   ],
   "source": [
    "def summarize_grade(name, *args):\n",
    "    if not args:\n",
    "        print(\"No grade available\")\n",
    "\n",
    "    else:\n",
    "        print(\"Student's name : \", name )\n",
    "        print(\"Max mark : \",max(args))\n",
    "        print(\"Min mark : \",min(args))\n",
    "        print(\"Average mark : \",sum(args)/len(args))\n",
    "    \n",
    "    \n",
    "\n",
    "summarize_grade(\"Kamal\", 80,50, 75, 96, 56)\n",
    "summarize_grade(\"Kamal\")\n"
   ]
  },
  {
   "cell_type": "markdown",
   "metadata": {},
   "source": [
    "2) ARBITRARY KEYWORD ARGUMANRTS"
   ]
  },
  {
   "cell_type": "code",
   "execution_count": 13,
   "metadata": {},
   "outputs": [
    {
     "name": "stdout",
     "output_type": "stream",
     "text": [
      "{'f_name': 'Kamal', 'age': 25, 'city': 'Galle'} <class 'dict'>\n",
      "f_name Kamal\n",
      "age 25\n",
      "city Galle\n"
     ]
    }
   ],
   "source": [
    "def calculate(** kwargs):\n",
    "    print(kwargs, type(kwargs))\n",
    "\n",
    "    for key, value in kwargs.items():\n",
    "        print(key, value)\n",
    "\n",
    "calculate(f_name = \"Kamal\", age = 25, city = \"Galle\")"
   ]
  },
  {
   "cell_type": "code",
   "execution_count": 23,
   "metadata": {},
   "outputs": [
    {
     "name": "stdout",
     "output_type": "stream",
     "text": [
      "Employee's name :  Kamal\n",
      "age  :  25\n",
      "city  :  Galle\n",
      "position  :  Manager\n",
      "{'name': 'Kamal', 'age': 25, 'city': 'Galle', 'position': 'Manager'}\n"
     ]
    }
   ],
   "source": [
    "def employee_info(name,** info):\n",
    "    print(\"Employee's name : \", name)\n",
    "    for key, value in info.items():\n",
    "        print(key,\" : \", value)\n",
    "\n",
    "    return {\"name\": name} | info\n",
    "\n",
    "print(employee_info(\"Kamal\", age = 25, city = \"Galle\", position = \"Manager\"))"
   ]
  }
 ],
 "metadata": {
  "kernelspec": {
   "display_name": "Python 3",
   "language": "python",
   "name": "python3"
  },
  "language_info": {
   "codemirror_mode": {
    "name": "ipython",
    "version": 3
   },
   "file_extension": ".py",
   "mimetype": "text/x-python",
   "name": "python",
   "nbconvert_exporter": "python",
   "pygments_lexer": "ipython3",
   "version": "3.13.0"
  }
 },
 "nbformat": 4,
 "nbformat_minor": 2
}
