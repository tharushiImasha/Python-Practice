{
 "cells": [
  {
   "cell_type": "markdown",
   "metadata": {},
   "source": [
    "READ JSON"
   ]
  },
  {
   "cell_type": "code",
   "execution_count": 3,
   "metadata": {},
   "outputs": [
    {
     "name": "stdout",
     "output_type": "stream",
     "text": [
      "{'fruit': 'Apple', 'size': 'Large', 'color': 'Red'}\n",
      "<class 'dict'>\n",
      "fruit  :  Apple\n",
      "size  :  Large\n",
      "color  :  Red\n"
     ]
    }
   ],
   "source": [
    "import json\n",
    "\n",
    "json_file_path = 'example_1.json'\n",
    "\n",
    "with open (json_file_path, 'r') as file:\n",
    "    data = json.load(file)\n",
    "\n",
    "print(data)\n",
    "print(type(data))\n",
    "\n",
    "for key,value in data.items():\n",
    "    print(key , \" : \", value)"
   ]
  },
  {
   "cell_type": "markdown",
   "metadata": {},
   "source": [
    "WRITE JSON"
   ]
  },
  {
   "cell_type": "code",
   "execution_count": 4,
   "metadata": {},
   "outputs": [],
   "source": [
    "import json\n",
    "\n",
    "data = {\n",
    "    \"name\" : \"John\",\n",
    "    \"age\" : 30,\n",
    "    \"city\" : \"New York\"\n",
    "}\n",
    "\n",
    "with open ('example_json_write.json', 'w') as file:\n",
    "    json_data = json.dumps(data, indent=4)\n",
    "\n",
    "    file.write(json_data)"
   ]
  },
  {
   "cell_type": "markdown",
   "metadata": {},
   "source": [
    "EXERSICE"
   ]
  },
  {
   "cell_type": "code",
   "execution_count": 8,
   "metadata": {},
   "outputs": [
    {
     "name": "stdout",
     "output_type": "stream",
     "text": [
      "Alice\n",
      "Charlie\n"
     ]
    }
   ],
   "source": [
    "import json\n",
    "\n",
    "with open ('students.json', 'r') as file:\n",
    "    data = json.load(file)\n",
    "\n",
    "det_1, det_2, det_3, det_4 = data\n",
    "# print(det_1)\n",
    "# print(det_2)\n",
    "# print(det_3)\n",
    "\n",
    "for details in data:\n",
    "    if details[\"garde\"] >= 75:\n",
    "        print(details[\"name\"])\n",
    "\n",
    "new_student = {\"name\":\"John\", \"garde\": 90}\n",
    "\n",
    "with open ('students.json', 'r') as file:\n",
    "    data = json.load(file)\n",
    "    data.append(new_student)\n",
    "    with open ('students.json', 'w') as file:\n",
    "        json_data = json.dumps(data, indent=4)\n",
    "        file.write(json_data)\n",
    "\n"
   ]
  }
 ],
 "metadata": {
  "kernelspec": {
   "display_name": "Python 3",
   "language": "python",
   "name": "python3"
  },
  "language_info": {
   "codemirror_mode": {
    "name": "ipython",
    "version": 3
   },
   "file_extension": ".py",
   "mimetype": "text/x-python",
   "name": "python",
   "nbconvert_exporter": "python",
   "pygments_lexer": "ipython3",
   "version": "3.13.0"
  }
 },
 "nbformat": 4,
 "nbformat_minor": 2
}
