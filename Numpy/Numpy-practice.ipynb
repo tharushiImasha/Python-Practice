{
 "cells": [
  {
   "cell_type": "code",
   "execution_count": null,
   "metadata": {},
   "outputs": [
    {
     "name": "stdout",
     "output_type": "stream",
     "text": [
      "Sum -  [10 19 27  5]\n",
      "Sub -  [ 2  1 -5 -3]\n",
      "Div -  [1.5        1.11111111 0.6875     0.25      ]\n",
      "Mul -  [ 24  90 176   4]\n",
      "Squre -  [ 36 100 121   1]\n",
      "sqrt -  [2. 3. 4. 2.]\n",
      "Sum Inbuild -  28\n",
      "Avg Inbuild -  7.0\n",
      "Max element -  11\n",
      "Min elemenyt -  1\n",
      "Index -  11\n"
     ]
    }
   ],
   "source": [
    "import numpy as np\n",
    "\n",
    "array_1 = np.array([6, 10, 11, 1])\n",
    "\n",
    "array_2 = np.array([4, 9, 16, 4])\n",
    "\n",
    "print(\"Sum - \", array_1 + array_2)\n",
    "\n",
    "print(\"Sub - \", array_1 - array_2)\n",
    "\n",
    "print(\"Div - \", array_1 / array_2)\n",
    "\n",
    "print(\"Mul - \", array_1 * array_2)\n",
    "\n",
    "print(\"Squre - \", array_1**2)\n",
    "\n",
    "print(\"sqrt - \", np.sqrt(array_2))\n",
    "\n",
    "print(\"Sum Inbuild - \", np.sum(array_1))\n",
    "\n",
    "print(\"Avg Inbuild - \", np.mean(array_1))\n",
    "\n",
    "print(\"Max element - \", np.max(array_1))\n",
    "\n",
    "print(\"Min elemenyt - \", np.min(array_1))\n",
    "\n",
    "print(\"Index - \", array_1[2])"
   ]
  },
  {
   "cell_type": "markdown",
   "metadata": {},
   "source": [
    "2D"
   ]
  },
  {
   "cell_type": "code",
   "execution_count": 3,
   "metadata": {},
   "outputs": [
    {
     "name": "stdout",
     "output_type": "stream",
     "text": [
      "[[1 2 3]\n",
      " [4 5 6]]\n",
      "<class 'numpy.ndarray'>\n",
      "Shape -  (2, 3)\n",
      "Size -  6\n",
      "Dimension -  2\n",
      "Data Type -  int64\n",
      "Index -  5\n"
     ]
    }
   ],
   "source": [
    "import numpy as np\n",
    "\n",
    "array_2d = np.array([[1,2,3], [4,5,6]])\n",
    "\n",
    "print(array_2d)\n",
    "print(type(array_2d))\n",
    "print(\"Shape - \", array_2d.shape)\n",
    "print(\"Size - \", array_2d.size)\n",
    "print(\"Dimension - \", array_2d.ndim)\n",
    "print(\"Data Type - \", array_2d.dtype)\n",
    "print(\"Index - \", array_2d[1, 1])"
   ]
  },
  {
   "cell_type": "markdown",
   "metadata": {},
   "source": [
    "3D"
   ]
  },
  {
   "cell_type": "code",
   "execution_count": 2,
   "metadata": {},
   "outputs": [
    {
     "name": "stdout",
     "output_type": "stream",
     "text": [
      "[[[1 2 3]\n",
      "  [4 5 6]]\n",
      "\n",
      " [[7 8 9]\n",
      "  [5 9 3]]]\n",
      "<class 'numpy.ndarray'>\n",
      "Shape -  (2, 2, 3)\n",
      "Size -  12\n",
      "3\n",
      "int64\n",
      "Index -  9\n"
     ]
    }
   ],
   "source": [
    "import numpy as np\n",
    "\n",
    "array_3d = np.array([[[1,2,3], [4,5,6]], [[7,8,9], [5,9,3]]])\n",
    "\n",
    "print(array_3d)\n",
    "print(type(array_3d))\n",
    "print(\"Shape - \",array_3d.shape)\n",
    "print(\"Size - \", array_3d.size)\n",
    "print(array_3d.ndim)\n",
    "print(array_3d.dtype)\n",
    "print(\"Index - \", array_3d[1, 0, 2])"
   ]
  },
  {
   "cell_type": "markdown",
   "metadata": {},
   "source": [
    "ARRAY INITIALIZE"
   ]
  },
  {
   "cell_type": "code",
   "execution_count": 4,
   "metadata": {},
   "outputs": [
    {
     "name": "stdout",
     "output_type": "stream",
     "text": [
      "[0. 0. 0. 0. 0.]\n",
      "[[0 0 0]\n",
      " [0 0 0]]\n",
      "[[7 7 7 7]\n",
      " [7 7 7 7]\n",
      " [7 7 7 7]]\n",
      "[[0. 0. 0.]\n",
      " [0. 0. 0.]]\n"
     ]
    }
   ],
   "source": [
    "import numpy as np\n",
    "\n",
    "print(np.zeros(5))\n",
    "\n",
    "print(np.zeros((2, 3), dtype=int))\n",
    "\n",
    "print(np.full((3, 4), 7))\n",
    "\n",
    "print(np.empty((2, 3)))"
   ]
  },
  {
   "cell_type": "markdown",
   "metadata": {},
   "source": [
    "BOOLEAN INDEXING"
   ]
  },
  {
   "cell_type": "code",
   "execution_count": 5,
   "metadata": {},
   "outputs": [
    {
     "name": "stdout",
     "output_type": "stream",
     "text": [
      "[False False  True  True  True]\n"
     ]
    }
   ],
   "source": [
    "import numpy as np\n",
    "\n",
    "arr = np.array([10, 20, 30, 40, 50])\n",
    "\n",
    "condition = arr > 25\n",
    "\n",
    "print(condition)"
   ]
  },
  {
   "cell_type": "code",
   "execution_count": 6,
   "metadata": {},
   "outputs": [
    {
     "name": "stdout",
     "output_type": "stream",
     "text": [
      "[30 40 50]\n"
     ]
    }
   ],
   "source": [
    "import numpy as np\n",
    "\n",
    "arr = np.array([10, 20, 30, 40, 50])\n",
    "\n",
    "result_arr = arr[condition]\n",
    "\n",
    "print(result_arr)"
   ]
  },
  {
   "cell_type": "code",
   "execution_count": 7,
   "metadata": {},
   "outputs": [
    {
     "name": "stdout",
     "output_type": "stream",
     "text": [
      "[30 40 50]\n",
      "[30 40]\n"
     ]
    }
   ],
   "source": [
    "import numpy as np\n",
    "\n",
    "arr = np.array([10, 20, 30, 40, 50])\n",
    "\n",
    "print(arr[arr>25])\n",
    "\n",
    "result = arr[(arr>25) & (arr<50)]\n",
    "\n",
    "print(result)"
   ]
  },
  {
   "cell_type": "markdown",
   "metadata": {},
   "source": [
    "EXERSICE"
   ]
  },
  {
   "cell_type": "code",
   "execution_count": 8,
   "metadata": {},
   "outputs": [
    {
     "name": "stdout",
     "output_type": "stream",
     "text": [
      "(4, 5)\n",
      "Sum 10 -  [[11 12 13 14 15]\n",
      " [16 17 18 19 20]\n",
      " [21 22 23 24 25]\n",
      " [26 27 28 29 30]]\n",
      "Div 2 -  [[ 0.5  1.   1.5  2.   2.5]\n",
      " [ 3.   3.5  4.   4.5  5. ]\n",
      " [ 5.5  6.   6.5  7.   7.5]\n",
      " [ 8.   8.5  9.   9.5 10. ]]\n",
      "Squre -  [[  1   4   9  16  25]\n",
      " [ 36  49  64  81 100]\n",
      " [121 144 169 196 225]\n",
      " [256 289 324 361 400]]\n"
     ]
    }
   ],
   "source": [
    "import numpy as np\n",
    "\n",
    "arr_2d = np.array([[1, 2, 3, 4, 5], [6, 7, 8, 9, 10], [11, 12, 13, 14, 15], [16, 17, 18, 19, 20]])\n",
    "print(arr_2d.shape)\n",
    "\n",
    "print(\"Sum 10 - \", arr_2d + 10)\n",
    "print(\"Div 2 - \", arr_2d / 2)\n",
    "print(\"Squre - \", arr_2d ** 2)"
   ]
  },
  {
   "cell_type": "code",
   "execution_count": 9,
   "metadata": {},
   "outputs": [
    {
     "name": "stdout",
     "output_type": "stream",
     "text": [
      "Even numbers -  [ 2  4  6  8 10 12 14 16 18 20]\n",
      "Mean -  [40 50]\n"
     ]
    }
   ],
   "source": [
    "import numpy as np\n",
    "\n",
    "arr = np.array([1, 2, 3, 4, 5, 6, 7, 8, 9, 10, 11, 12, 13, 14, 15, 16, 17, 18, 19, 20])\n",
    "\n",
    "print(\"Even numbers - \", arr[arr%2 == 0])\n",
    "\n",
    "arr_2 = np.array([10, 20, 30, 40, 50])\n",
    "\n",
    "\n",
    "print(\"Mean - \", arr_2[arr_2 > np.mean(arr_2)])"
   ]
  }
 ],
 "metadata": {
  "kernelspec": {
   "display_name": ".venv",
   "language": "python",
   "name": "python3"
  },
  "language_info": {
   "codemirror_mode": {
    "name": "ipython",
    "version": 3
   },
   "file_extension": ".py",
   "mimetype": "text/x-python",
   "name": "python",
   "nbconvert_exporter": "python",
   "pygments_lexer": "ipython3",
   "version": "3.13.0"
  }
 },
 "nbformat": 4,
 "nbformat_minor": 2
}
