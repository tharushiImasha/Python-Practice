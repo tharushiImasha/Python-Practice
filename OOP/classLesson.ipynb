{
 "cells": [
  {
   "cell_type": "code",
   "execution_count": 5,
   "metadata": {},
   "outputs": [
    {
     "name": "stdout",
     "output_type": "stream",
     "text": [
      "motor vehicle\n",
      "My car\n",
      "None\n",
      "motor vehicle\n"
     ]
    }
   ],
   "source": [
    "class Car:\n",
    "    category = \"motor vehicle\"\n",
    "\n",
    "    def display(self):\n",
    "        print(\"My car\")\n",
    "\n",
    "new_car = Car()\n",
    "\n",
    "print(new_car.category)\n",
    "print(new_car.display())\n",
    "print(Car.category)"
   ]
  },
  {
   "cell_type": "markdown",
   "metadata": {},
   "source": [
    "CONSTRUCTOR"
   ]
  },
  {
   "cell_type": "code",
   "execution_count": 6,
   "metadata": {},
   "outputs": [
    {
     "name": "stdout",
     "output_type": "stream",
     "text": [
      "motor vehicle\n",
      "Audi\n"
     ]
    }
   ],
   "source": [
    "class Car:\n",
    "    category = \"motor vehicle\"\n",
    "\n",
    "    def __init__ (self, name):\n",
    "        self.name = name\n",
    "\n",
    "new_car = Car(\"Audi\")\n",
    "\n",
    "print(new_car.category)\n",
    "print(new_car.name)"
   ]
  },
  {
   "cell_type": "code",
   "execution_count": 11,
   "metadata": {},
   "outputs": [
    {
     "name": "stdout",
     "output_type": "stream",
     "text": [
      "motor vehicle\n",
      "Audi\n",
      "BMW\n"
     ]
    }
   ],
   "source": [
    "class Car:\n",
    "    category = \"motor vehicle\"\n",
    "\n",
    "    def display(self):\n",
    "        print(\"My car\")\n",
    "\n",
    "    def __init__ (self, name):\n",
    "        self.name = name\n",
    "\n",
    "    def update(self, new_name):\n",
    "        self.name = new_name\n",
    "        print(new_car.name)\n",
    "\n",
    "new_car = Car(\"Audi\")\n",
    "\n",
    "print(new_car.category)\n",
    "print(new_car.name)\n",
    "new_car.update(\"BMW\")"
   ]
  },
  {
   "cell_type": "markdown",
   "metadata": {},
   "source": [
    "EXERCISE BANK"
   ]
  },
  {
   "cell_type": "code",
   "execution_count": 23,
   "metadata": {},
   "outputs": [
    {
     "name": "stdout",
     "output_type": "stream",
     "text": [
      "Current Balance -  5000\n",
      "Current Balance -  4000\n",
      "Not enough balance\n",
      "Amount should be positive\n"
     ]
    }
   ],
   "source": [
    "class BankAccount:\n",
    "    def __init__(self, account_holder):\n",
    "        self.account_holder = account_holder\n",
    "        self.balance = 0\n",
    "\n",
    "    def deposit(self, amount):\n",
    "        if amount > 0:\n",
    "            self.balance = self.balance + amount\n",
    "        else:\n",
    "            print(\"Amount should be positive\")\n",
    "\n",
    "    def withdraw(self, amount):\n",
    "        if(self.balance > amount and amount > 0):\n",
    "            self.balance = self.balance - amount\n",
    "        else:\n",
    "            print(\"Not enough balance\")\n",
    "\n",
    "    def display_balance(self):\n",
    "        print(\"Current Balance - \", self.balance)\n",
    "\n",
    "acoount_detail = BankAccount(\"Kamal\")\n",
    "\n",
    "acoount_detail.deposit(5000)\n",
    "acoount_detail.display_balance()\n",
    "acoount_detail.withdraw(1000)\n",
    "acoount_detail.display_balance()\n",
    "acoount_detail.withdraw(8000)\n",
    "acoount_detail.deposit(-500)\n"
   ]
  },
  {
   "cell_type": "markdown",
   "metadata": {},
   "source": [
    "INHERITANCE"
   ]
  },
  {
   "cell_type": "code",
   "execution_count": 25,
   "metadata": {},
   "outputs": [
    {
     "name": "stdout",
     "output_type": "stream",
     "text": [
      "Tim says Woof\n"
     ]
    }
   ],
   "source": [
    "class Animal:\n",
    "    def __init__(self, name):\n",
    "        self.name = name\n",
    "\n",
    "    def speak(self):\n",
    "        pass\n",
    "\n",
    "class Dog(Animal):\n",
    "     def speak(self):\n",
    "        print(self.name, \"says Woof\")\n",
    "\n",
    "dog_1 = Dog(\"Tim\")\n",
    "dog_1.speak()"
   ]
  },
  {
   "cell_type": "code",
   "execution_count": 26,
   "metadata": {},
   "outputs": [
    {
     "name": "stdout",
     "output_type": "stream",
     "text": [
      "Tim says Woof\n",
      "Tim is Black\n"
     ]
    }
   ],
   "source": [
    "class Animal:\n",
    "    def __init__(self, name):\n",
    "        self.name = name\n",
    "\n",
    "    def speak(self):\n",
    "        pass\n",
    "\n",
    "class Dog(Animal):\n",
    "    def __init__(self, name, color):\n",
    "        super().__init__(name)\n",
    "        self.color = color\n",
    "\n",
    "    def speak(self):\n",
    "        print(self.name, \"says Woof\")\n",
    "        print(self.name, \"is\", self.color)\n",
    "\n",
    "dog_1 = Dog(\"Tim\", \"Black\")\n",
    "dog_1.speak()"
   ]
  },
  {
   "cell_type": "code",
   "execution_count": 32,
   "metadata": {},
   "outputs": [
    {
     "name": "stdout",
     "output_type": "stream",
     "text": [
      "Tim says Woof\n",
      "Tim is Black\n"
     ]
    }
   ],
   "source": [
    "class Animal:\n",
    "    def __init__(self, name):\n",
    "        self.name = name\n",
    "\n",
    "    def speak(self):\n",
    "        pass\n",
    "\n",
    "class Dog(Animal):\n",
    "    def __init__(self, name, color):\n",
    "        Animal.__init__(self, name)\n",
    "        self.color = color\n",
    "\n",
    "    def speak(self):\n",
    "        print(self.name, \"says Woof\")\n",
    "        print(self.name, \"is\", self.color)\n",
    "\n",
    "dog_1 = Dog(\"Tim\", \"Black\")\n",
    "dog_1.speak()"
   ]
  },
  {
   "cell_type": "markdown",
   "metadata": {},
   "source": [
    "EXERSICE LIBRARY"
   ]
  },
  {
   "cell_type": "code",
   "execution_count": 37,
   "metadata": {},
   "outputs": [
    {
     "name": "stdout",
     "output_type": "stream",
     "text": [
      "Harry Potter  written by -  Tom  published on -  2000\n",
      "-----------------------------------------------------\n",
      "Harry Potter  written by -  Tom  published on -  2000\n",
      "Fiction  isbn is -  123456\n",
      "-----------------------------------------------------\n",
      "Times  written by -  John  published on -  2021\n",
      "Issued -  5\n"
     ]
    }
   ],
   "source": [
    "class LibraryItem:\n",
    "    def __init__(self, title, author, publication_year):\n",
    "        self.title = title\n",
    "        self.author = author\n",
    "        self.publication_year = publication_year\n",
    "    \n",
    "    def display_info(self):\n",
    "        print(self.title, \" written by - \", self.author, \" published on - \", self.publication_year)\n",
    "\n",
    "class Book(LibraryItem):\n",
    "    def __init__(self, title, author, publication_year, genre, isbn):\n",
    "        super().__init__(title, author, publication_year)\n",
    "        self.genre = genre\n",
    "        self.isbn = isbn\n",
    "\n",
    "    def display_info(self):\n",
    "        super().display_info()\n",
    "        print(self.genre, \" isbn is - \", self.isbn)\n",
    "\n",
    "class Magazine(LibraryItem):\n",
    "    def __init__(self, title, author, publication_year, issue):\n",
    "        super().__init__(title, author, publication_year)\n",
    "        self.issue = issue\n",
    "\n",
    "    def display_info(self):\n",
    "        super().display_info()\n",
    "        print(\"Issued - \", self.issue)\n",
    "\n",
    "library = LibraryItem(\"Harry Potter\", \"Tom\", 2000)\n",
    "library.display_info()\n",
    "\n",
    "print(\"-----------------------------------------------------\")\n",
    "\n",
    "book = Book(\"Harry Potter\", \"Tom\", 2000, \"Fiction\", \"123456\")\n",
    "book.display_info()\n",
    "\n",
    "print(\"-----------------------------------------------------\")\n",
    "\n",
    "magazine = Magazine(\"Times\", \"John\", 2021, 5)\n",
    "magazine.display_info()\n",
    "    "
   ]
  },
  {
   "cell_type": "markdown",
   "metadata": {},
   "source": [
    "ENCAPSULATION"
   ]
  },
  {
   "cell_type": "markdown",
   "metadata": {},
   "source": [
    "Privet"
   ]
  },
  {
   "cell_type": "code",
   "execution_count": 38,
   "metadata": {},
   "outputs": [
    {
     "name": "stdout",
     "output_type": "stream",
     "text": [
      "Public Attribute\n",
      "Protected Attribute\n"
     ]
    },
    {
     "ename": "AttributeError",
     "evalue": "'MyCalss' object has no attribute '__var_3'",
     "output_type": "error",
     "traceback": [
      "\u001b[0;31m---------------------------------------------------------------------------\u001b[0m",
      "\u001b[0;31mAttributeError\u001b[0m                            Traceback (most recent call last)",
      "Cell \u001b[0;32mIn[38], line 10\u001b[0m\n\u001b[1;32m      8\u001b[0m \u001b[38;5;28mprint\u001b[39m(my_obj\u001b[38;5;241m.\u001b[39mvar_1)\n\u001b[1;32m      9\u001b[0m \u001b[38;5;28mprint\u001b[39m(my_obj\u001b[38;5;241m.\u001b[39m_var_2)\n\u001b[0;32m---> 10\u001b[0m \u001b[38;5;28mprint\u001b[39m(\u001b[43mmy_obj\u001b[49m\u001b[38;5;241;43m.\u001b[39;49m\u001b[43m__var_3\u001b[49m)\n",
      "\u001b[0;31mAttributeError\u001b[0m: 'MyCalss' object has no attribute '__var_3'"
     ]
    }
   ],
   "source": [
    "class MyCalss:\n",
    "    def __init__(self):\n",
    "        self.var_1 = \"Public Attribute\"\n",
    "        self._var_2 = \"Protected Attribute\"\n",
    "        self.__var_3 = \"privet Attribute\"\n",
    "\n",
    "my_obj = MyCalss()\n",
    "print(my_obj.var_1)\n",
    "print(my_obj._var_2)\n",
    "print(my_obj.__var_3)"
   ]
  },
  {
   "cell_type": "code",
   "execution_count": 39,
   "metadata": {},
   "outputs": [
    {
     "name": "stdout",
     "output_type": "stream",
     "text": [
      "Protected Method\n"
     ]
    },
    {
     "ename": "AttributeError",
     "evalue": "'MyCalss' object has no attribute '__privet_method'",
     "output_type": "error",
     "traceback": [
      "\u001b[0;31m---------------------------------------------------------------------------\u001b[0m",
      "\u001b[0;31mAttributeError\u001b[0m                            Traceback (most recent call last)",
      "Cell \u001b[0;32mIn[39], line 14\u001b[0m\n\u001b[1;32m     12\u001b[0m my_obj \u001b[38;5;241m=\u001b[39m MyCalss()\n\u001b[1;32m     13\u001b[0m my_obj\u001b[38;5;241m.\u001b[39m_protectd_method()\n\u001b[0;32m---> 14\u001b[0m \u001b[43mmy_obj\u001b[49m\u001b[38;5;241;43m.\u001b[39;49m\u001b[43m__privet_method\u001b[49m()\n",
      "\u001b[0;31mAttributeError\u001b[0m: 'MyCalss' object has no attribute '__privet_method'"
     ]
    }
   ],
   "source": [
    "class MyCalss:\n",
    "    def __init__(self):\n",
    "        self.var_1 = \"Public Attribute\"\n",
    "        self._var_2 = \"Protected Attribute\"\n",
    "        self.__var_3 = \"privet Attribute\"\n",
    "\n",
    "    def _protectd_method(self):\n",
    "        print(\"Protected Method\")\n",
    "    def __privet_method(self):\n",
    "        print(\"Privet Method\")\n",
    "\n",
    "my_obj = MyCalss()\n",
    "my_obj._protectd_method()\n",
    "my_obj.__privet_method()"
   ]
  },
  {
   "cell_type": "code",
   "execution_count": 41,
   "metadata": {},
   "outputs": [
    {
     "name": "stdout",
     "output_type": "stream",
     "text": [
      "Some data\n",
      "50\n"
     ]
    }
   ],
   "source": [
    "class MyCalss:\n",
    "    def __init__(self):\n",
    "        self.__data = \"Some data\"\n",
    "    \n",
    "    def get_value(self):\n",
    "        print(self.__data)\n",
    "    \n",
    "    def set_value(self, data):\n",
    "        self.__data = data\n",
    "\n",
    "my_obj = MyCalss()\n",
    "my_obj.get_value()\n",
    "my_obj.set_value(50)\n",
    "my_obj.get_value()"
   ]
  },
  {
   "cell_type": "code",
   "execution_count": 45,
   "metadata": {},
   "outputs": [
    {
     "name": "stdout",
     "output_type": "stream",
     "text": [
      "Checking values\n"
     ]
    }
   ],
   "source": [
    "class MyCalss:\n",
    "    def __init__(self):\n",
    "        self.__data = \"Some data\"\n",
    "\n",
    "    def __check_my_values(self):\n",
    "        print(\"Checking values\")\n",
    "    \n",
    "    def get_value(self):\n",
    "        return self.__check_my_values()\n",
    "    \n",
    "\n",
    "my_obj = MyCalss()\n",
    "my_obj.get_value()"
   ]
  },
  {
   "cell_type": "code",
   "execution_count": 63,
   "metadata": {},
   "outputs": [
    {
     "name": "stdout",
     "output_type": "stream",
     "text": [
      "Roots are :  -0.2928932188134524  and  -1.7071067811865475\n",
      "-1.0\n",
      "Has 2 complex root\n",
      "Roots are :  3.0  and  2.0\n"
     ]
    }
   ],
   "source": [
    "class QuadraticEquation:\n",
    "    def __init__(self, a, b, c):\n",
    "        self.__a = a \n",
    "        self.__b = b\n",
    "        self.__c = c\n",
    "\n",
    "    def __discriminant(self):\n",
    "        return self.__b**2 - 4*self.__a*self.__c\n",
    "    \n",
    "    def find_roots(self):\n",
    "        D = self.__discriminant()\n",
    "        if D == 0:\n",
    "            print(-self.__b / (2*self.__a))\n",
    "        elif D > 0:\n",
    "            root_1 = (-self.__b + D**0.5) / (2 * self.__a)\n",
    "            root_2 = (-self.__b - D**0.5) / (2 * self.__a)\n",
    "            print( 'Roots are : ', root_1, ' and ' , root_2)\n",
    "        else:\n",
    "            print(\"Has 2 complex root\")\n",
    "        \n",
    "calculation = QuadraticEquation(2, 4, 1)\n",
    "calculation.find_roots()\n",
    "calculation = QuadraticEquation(2, 4, 2)\n",
    "calculation.find_roots()\n",
    "calculation = QuadraticEquation(2, 4, 8)\n",
    "calculation.find_roots()\n",
    "calculation = QuadraticEquation(1, -5, 6)\n",
    "calculation.find_roots()"
   ]
  }
 ],
 "metadata": {
  "kernelspec": {
   "display_name": "Python 3",
   "language": "python",
   "name": "python3"
  },
  "language_info": {
   "codemirror_mode": {
    "name": "ipython",
    "version": 3
   },
   "file_extension": ".py",
   "mimetype": "text/x-python",
   "name": "python",
   "nbconvert_exporter": "python",
   "pygments_lexer": "ipython3",
   "version": "3.13.0"
  }
 },
 "nbformat": 4,
 "nbformat_minor": 2
}
