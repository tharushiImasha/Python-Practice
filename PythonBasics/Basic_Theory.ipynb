{
 "cells": [
  {
   "cell_type": "code",
   "execution_count": 1,
   "metadata": {},
   "outputs": [
    {
     "name": "stdout",
     "output_type": "stream",
     "text": [
      "10\n",
      "<class 'int'>\n",
      "10 <class 'int'>\n"
     ]
    }
   ],
   "source": [
    "a = 10\n",
    "print(a)\n",
    "print(type(a))\n",
    "print(a,type(a))"
   ]
  },
  {
   "cell_type": "code",
   "execution_count": 2,
   "metadata": {},
   "outputs": [
    {
     "name": "stdout",
     "output_type": "stream",
     "text": [
      "The type of varibale having value 10 is <class 'int'>\n"
     ]
    }
   ],
   "source": [
    "a = 10\n",
    "print(\"The type of varibale having value\", a, \"is\" , type(a))"
   ]
  },
  {
   "cell_type": "code",
   "execution_count": 3,
   "metadata": {},
   "outputs": [
    {
     "name": "stdout",
     "output_type": "stream",
     "text": [
      "25000.0 <class 'float'>\n"
     ]
    }
   ],
   "source": [
    "a = 2.5e4\n",
    "print(a,type(a))"
   ]
  },
  {
   "cell_type": "code",
   "execution_count": 4,
   "metadata": {},
   "outputs": [
    {
     "name": "stdout",
     "output_type": "stream",
     "text": [
      "5.0 <class 'float'>\n"
     ]
    }
   ],
   "source": [
    "a = 5\n",
    "b = float(a)\n",
    "print(b,type(b))"
   ]
  },
  {
   "cell_type": "code",
   "execution_count": 5,
   "metadata": {},
   "outputs": [
    {
     "name": "stdout",
     "output_type": "stream",
     "text": [
      "7 <class 'int'>\n"
     ]
    }
   ],
   "source": [
    "c = 7.0\n",
    "d = int(c)\n",
    "print(d,type(d))"
   ]
  },
  {
   "cell_type": "markdown",
   "metadata": {},
   "source": [
    "LIST"
   ]
  },
  {
   "cell_type": "code",
   "execution_count": 8,
   "metadata": {},
   "outputs": [
    {
     "name": "stdout",
     "output_type": "stream",
     "text": [
      "[10, 5, 0, 30, 20] <class 'list'>\n",
      "30\n",
      "[10, 5, 'f', 30, True]\n",
      "[10, 'Dog', 0, 30, 20]\n",
      "5\n",
      "20\n",
      "0\n",
      "['Dog', 0, 30] <class 'list'>\n",
      "[10, 'Dog', 0] <class 'list'>\n",
      "[0, 30, 20] <class 'list'>\n",
      "\n",
      "[10, 'parrot', 17, 0, 30, 20]\n"
     ]
    }
   ],
   "source": [
    "my_list = [10,5,0,30,20]\n",
    "print(my_list,type(my_list))\n",
    "print(my_list[3])\n",
    "\n",
    "new_list = [10,5,\"f\" ,30,True]\n",
    "print(new_list)\n",
    "\n",
    "my_list[1] = \"Dog\"\n",
    "print(my_list)\n",
    "\n",
    "print(len(my_list))\n",
    "\n",
    "print(my_list[-1])\n",
    "print(my_list[-3])\n",
    "\n",
    "print(my_list[1:4],type(my_list[1:4]))\n",
    "print(my_list[:3],type(my_list[:3]))\n",
    "print(my_list[2:],type(my_list[2:]))\n",
    "\n",
    "print()\n",
    "my_list[1:2] = [\"parrot\" , 17]\n",
    "print(my_list)"
   ]
  },
  {
   "cell_type": "code",
   "execution_count": 3,
   "metadata": {},
   "outputs": [
    {
     "name": "stdout",
     "output_type": "stream",
     "text": [
      "[10, 'parrot', 17.0, 'dog', True]\n"
     ]
    }
   ],
   "source": [
    "my_list = [10, 5, \"cat\", \"dog\", True]\n",
    "my_list[1:3] = [\"parrot\", 17.0]\n",
    "\n",
    "print(my_list)"
   ]
  },
  {
   "cell_type": "code",
   "execution_count": 4,
   "metadata": {},
   "outputs": [
    {
     "name": "stdout",
     "output_type": "stream",
     "text": [
      "[10, 5, 'Rat', 'cat', 'dog', True] 6\n"
     ]
    }
   ],
   "source": [
    "my_list = [10, 5, \"cat\", \"dog\", True]\n",
    "my_list.insert(2, \"Rat\")\n",
    "print(my_list, len(my_list))"
   ]
  },
  {
   "cell_type": "code",
   "execution_count": 5,
   "metadata": {},
   "outputs": [
    {
     "name": "stdout",
     "output_type": "stream",
     "text": [
      "[10, 5, 'cat', 'dog', True, 'Carrot'] 6\n"
     ]
    }
   ],
   "source": [
    "my_list = [10, 5, \"cat\", \"dog\", True]\n",
    "my_list.append(\"Carrot\")\n",
    "print(my_list, len(my_list))"
   ]
  },
  {
   "cell_type": "code",
   "execution_count": 6,
   "metadata": {},
   "outputs": [
    {
     "name": "stdout",
     "output_type": "stream",
     "text": [
      "[10, 5, 'cat', 'dog', True, 'John', 3, False] 8\n"
     ]
    }
   ],
   "source": [
    "my_list = [10, 5, \"cat\", \"dog\", True]\n",
    "my_list_1 = [\"John\", 3, False]\n",
    "\n",
    "my_list.extend(my_list_1)\n",
    "\n",
    "print(my_list, len(my_list))"
   ]
  },
  {
   "cell_type": "code",
   "execution_count": 7,
   "metadata": {},
   "outputs": [
    {
     "name": "stdout",
     "output_type": "stream",
     "text": [
      "[10, 5, 'dog', True] 4\n"
     ]
    }
   ],
   "source": [
    "my_list = [10, 5, \"cat\", \"dog\", True]\n",
    "my_list.pop(2)\n",
    "\n",
    "print(my_list, len(my_list))"
   ]
  },
  {
   "cell_type": "code",
   "execution_count": 9,
   "metadata": {},
   "outputs": [
    {
     "name": "stdout",
     "output_type": "stream",
     "text": [
      "[10, 5, 'dog', True] 4\n"
     ]
    }
   ],
   "source": [
    "my_list = [10, 5, \"cat\", \"dog\", True]\n",
    "del my_list[2]\n",
    "\n",
    "print(my_list, len(my_list))"
   ]
  },
  {
   "cell_type": "code",
   "execution_count": 11,
   "metadata": {},
   "outputs": [],
   "source": [
    "my_list = [10, 5, \"cat\", \"dog\", True]\n",
    "del my_list\n"
   ]
  },
  {
   "cell_type": "code",
   "execution_count": 14,
   "metadata": {},
   "outputs": [
    {
     "name": "stdout",
     "output_type": "stream",
     "text": [
      "[] 0\n"
     ]
    }
   ],
   "source": [
    "my_list = [10, 5, \"cat\", \"dog\", True]\n",
    "my_list.clear()\n",
    "\n",
    "print(my_list, len(my_list))"
   ]
  },
  {
   "cell_type": "markdown",
   "metadata": {},
   "source": [
    "SOARTING"
   ]
  },
  {
   "cell_type": "code",
   "execution_count": 15,
   "metadata": {},
   "outputs": [
    {
     "name": "stdout",
     "output_type": "stream",
     "text": [
      "['Apple', 'Banana', 'Grapes', 'Orange']\n"
     ]
    }
   ],
   "source": [
    "my_list = [\"Grapes\", \"Apple\", \"Orange\", \"Banana\"]\n",
    "my_list.sort()\n",
    "\n",
    "print(my_list)"
   ]
  },
  {
   "cell_type": "code",
   "execution_count": 16,
   "metadata": {},
   "outputs": [
    {
     "name": "stdout",
     "output_type": "stream",
     "text": [
      "['Grapes', 'apple', 'banana', 'orange']\n"
     ]
    }
   ],
   "source": [
    "my_list = [\"Grapes\", \"apple\", \"orange\", \"banana\"]\n",
    "my_list.sort()\n",
    "\n",
    "print(my_list)"
   ]
  },
  {
   "cell_type": "code",
   "execution_count": 17,
   "metadata": {},
   "outputs": [
    {
     "name": "stdout",
     "output_type": "stream",
     "text": [
      "['apple', 'banana', 'Grapes', 'orange']\n"
     ]
    }
   ],
   "source": [
    "my_list = [\"Grapes\", \"apple\", \"orange\", \"banana\"]\n",
    "my_list.sort(key=str.lower)\n",
    "\n",
    "print(my_list)"
   ]
  },
  {
   "cell_type": "code",
   "execution_count": 18,
   "metadata": {},
   "outputs": [
    {
     "name": "stdout",
     "output_type": "stream",
     "text": [
      "[3, 5, 8, 10, 25]\n"
     ]
    }
   ],
   "source": [
    "my_list = [5, 3, 10, 25, 8]\n",
    "my_list.sort()\n",
    "\n",
    "print(my_list)"
   ]
  },
  {
   "cell_type": "code",
   "execution_count": 19,
   "metadata": {},
   "outputs": [
    {
     "name": "stdout",
     "output_type": "stream",
     "text": [
      "[25, 10, 8, 5, 3]\n"
     ]
    }
   ],
   "source": [
    "my_list = [5, 3, 10, 25, 8]\n",
    "my_list.sort(reverse=True)\n",
    "\n",
    "print(my_list)"
   ]
  },
  {
   "cell_type": "markdown",
   "metadata": {},
   "source": [
    "1 - Median       2 - Q1         3 - Q3"
   ]
  },
  {
   "cell_type": "code",
   "execution_count": 1,
   "metadata": {},
   "outputs": [
    {
     "name": "stdout",
     "output_type": "stream",
     "text": [
      "[1, 1, 4, 5, 6, 7, 8, 10, 10, 12, 13] 11\n",
      "Median -  7\n",
      "Q1 -  4\n",
      "Q3 -  10\n"
     ]
    }
   ],
   "source": [
    "my_list_1 = [12, 10, 13, 4, 1, 5]\n",
    "my_list_2 = [6, 1, 7, 8, 10]\n",
    "\n",
    "my_list_1.extend(my_list_2)\n",
    "\n",
    "my_list_1.sort()\n",
    "\n",
    "median_index = int((len(my_list_1))/2)\n",
    "\n",
    "q1 = int((len(my_list_1) +1)/4)\n",
    "\n",
    "q3 = int(3*((len(my_list_1) +1)/4))\n",
    "\n",
    "print(my_list_1, len(my_list_1))\n",
    "\n",
    "print(\"Median - \", my_list_1[median_index])\n",
    "\n",
    "print(\"Q1 - \", my_list_1[q1-1])\n",
    "\n",
    "print(\"Q3 - \", my_list_1[q3-1])"
   ]
  },
  {
   "cell_type": "code",
   "execution_count": 1,
   "metadata": {},
   "outputs": [
    {
     "name": "stdout",
     "output_type": "stream",
     "text": [
      "[12, 10, 13, 4, 1, 5]\n",
      "[12, 10, 13, 4, 1, 5]\n"
     ]
    }
   ],
   "source": [
    "my_list_1 = [12, 10, 13, 4, 1, 5]\n",
    "my_list_2 = my_list_1.copy()\n",
    "print(my_list_1)\n",
    "print(my_list_2)"
   ]
  },
  {
   "cell_type": "markdown",
   "metadata": {},
   "source": [
    "TUPLES"
   ]
  },
  {
   "cell_type": "code",
   "execution_count": null,
   "metadata": {},
   "outputs": [],
   "source": [
    "my_tuple = (39.1, 56.5)  \n",
    "# Cordinates"
   ]
  },
  {
   "cell_type": "code",
   "execution_count": 2,
   "metadata": {},
   "outputs": [
    {
     "name": "stdout",
     "output_type": "stream",
     "text": [
      "<class 'tuple'>\n"
     ]
    }
   ],
   "source": [
    "my_tuple = (1, \"apple\", True)\n",
    "print(type(my_tuple))"
   ]
  },
  {
   "cell_type": "code",
   "execution_count": 3,
   "metadata": {},
   "outputs": [
    {
     "name": "stdout",
     "output_type": "stream",
     "text": [
      "3\n"
     ]
    }
   ],
   "source": [
    "my_tuple = (1, \"apple\", True)\n",
    "print(len(my_tuple))"
   ]
  },
  {
   "cell_type": "code",
   "execution_count": 3,
   "metadata": {},
   "outputs": [
    {
     "name": "stdout",
     "output_type": "stream",
     "text": [
      "[10, 12, 11, 15]\n",
      "[10, 11]\n"
     ]
    }
   ],
   "source": [
    "my_list = [8, 10, 12, 11, 15, 4, 16]\n",
    "print(my_list[1:5])\n",
    "\n",
    "print(my_list[1:5:2])"
   ]
  },
  {
   "cell_type": "code",
   "execution_count": 4,
   "metadata": {},
   "outputs": [
    {
     "name": "stdout",
     "output_type": "stream",
     "text": [
      "1 2 5\n"
     ]
    }
   ],
   "source": [
    "my_list = [1, 2, 5]\n",
    "x, y, z = my_list\n",
    "\n",
    "print(x, y, z)"
   ]
  },
  {
   "cell_type": "code",
   "execution_count": 1,
   "metadata": {},
   "outputs": [
    {
     "ename": "ValueError",
     "evalue": "attempt to assign sequence of size 3 to extended slice of size 2",
     "output_type": "error",
     "traceback": [
      "\u001b[0;31m---------------------------------------------------------------------------\u001b[0m",
      "\u001b[0;31mValueError\u001b[0m                                Traceback (most recent call last)",
      "Cell \u001b[0;32mIn[1], line 2\u001b[0m\n\u001b[1;32m      1\u001b[0m my_list \u001b[38;5;241m=\u001b[39m [\u001b[38;5;241m1\u001b[39m, \u001b[38;5;241m2\u001b[39m, \u001b[38;5;241m5\u001b[39m, \u001b[38;5;241m3\u001b[39m]\n\u001b[0;32m----> 2\u001b[0m \u001b[43mmy_list\u001b[49m\u001b[43m[\u001b[49m\u001b[43m:\u001b[49m\u001b[43m:\u001b[49m\u001b[38;5;241;43m2\u001b[39;49m\u001b[43m]\u001b[49m \u001b[38;5;241m=\u001b[39m [\u001b[38;5;241m0\u001b[39m,\u001b[38;5;241m0\u001b[39m,\u001b[38;5;241m0\u001b[39m]\n\u001b[1;32m      3\u001b[0m \u001b[38;5;28mprint\u001b[39m(my_list)\n",
      "\u001b[0;31mValueError\u001b[0m: attempt to assign sequence of size 3 to extended slice of size 2"
     ]
    }
   ],
   "source": [
    "my_list = [1, 2, 5, 3]\n",
    "my_list[::2] = [0,0,0]\n",
    "print(my_list)"
   ]
  }
 ],
 "metadata": {
  "kernelspec": {
   "display_name": "Python 3",
   "language": "python",
   "name": "python3"
  },
  "language_info": {
   "codemirror_mode": {
    "name": "ipython",
    "version": 3
   },
   "file_extension": ".py",
   "mimetype": "text/x-python",
   "name": "python",
   "nbconvert_exporter": "python",
   "pygments_lexer": "ipython3",
   "version": "3.13.0"
  }
 },
 "nbformat": 4,
 "nbformat_minor": 2
}
