{
 "cells": [
  {
   "cell_type": "markdown",
   "metadata": {},
   "source": [
    "DICTIONARY"
   ]
  },
  {
   "cell_type": "code",
   "execution_count": null,
   "metadata": {},
   "outputs": [
    {
     "name": "stdout",
     "output_type": "stream",
     "text": [
      "{'name': 'Sugar', 'price': 250.5, 'weight': '1KG'}\n",
      "<class 'dict'>\n",
      "Sugar\n"
     ]
    }
   ],
   "source": [
    "my_dict = {\n",
    "    \"name\": \"Sugar\",\n",
    "    \"price\": 250.50,\n",
    "    \"weight\": \"1KG\"\n",
    "}\n",
    "\n",
    "print(my_dict)\n",
    "print(type(my_dict))\n",
    "print(my_dict[\"name\"])"
   ]
  },
  {
   "cell_type": "code",
   "execution_count": 3,
   "metadata": {},
   "outputs": [
    {
     "name": "stdout",
     "output_type": "stream",
     "text": [
      "{'name': 'Sugar', 'price': 1000, 'weight': '1KG'}\n",
      "1000\n"
     ]
    }
   ],
   "source": [
    "my_dict = {\n",
    "    \"name\": \"Sugar\",\n",
    "    \"price\": 250.50,\n",
    "    \"weight\": \"1KG\",\n",
    "    \"price\": 1000\n",
    "}\n",
    "\n",
    "print(my_dict)\n",
    "print(my_dict[\"price\"])"
   ]
  },
  {
   "cell_type": "code",
   "execution_count": null,
   "metadata": {},
   "outputs": [
    {
     "name": "stdout",
     "output_type": "stream",
     "text": [
      "{'name': 'Sugar', 'price': 500.0, 'weight': '1KG'}\n"
     ]
    }
   ],
   "source": [
    "my_dict = {\n",
    "    \"name\": \"Sugar\",\n",
    "    \"price\": 250.50,\n",
    "    \"weight\": \"1KG\"\n",
    "}\n",
    "\n",
    "# Update\n",
    "\n",
    "my_dict[\"price\"] = 500.00\n",
    "print(my_dict)"
   ]
  },
  {
   "cell_type": "code",
   "execution_count": 5,
   "metadata": {},
   "outputs": [
    {
     "name": "stdout",
     "output_type": "stream",
     "text": [
      "250.5\n"
     ]
    }
   ],
   "source": [
    "my_dict = {\n",
    "    \"name\": \"Sugar\",\n",
    "    \"price\": 250.50,\n",
    "    \"weight\": \"1KG\"\n",
    "}\n",
    "\n",
    "print(my_dict.get(\"price\"))"
   ]
  },
  {
   "cell_type": "code",
   "execution_count": 7,
   "metadata": {},
   "outputs": [
    {
     "name": "stdout",
     "output_type": "stream",
     "text": [
      "None\n",
      "2025.01.26\n"
     ]
    }
   ],
   "source": [
    "my_dict = {\n",
    "    \"name\": \"Sugar\",\n",
    "    \"price\": 250.50,\n",
    "    \"weight\": \"1KG\"\n",
    "}\n",
    "\n",
    "print(my_dict.get(\"expire_date\"))\n",
    "print(my_dict.get(\"expire_date\", \"2025.01.26\"))"
   ]
  },
  {
   "cell_type": "code",
   "execution_count": 8,
   "metadata": {},
   "outputs": [
    {
     "name": "stdout",
     "output_type": "stream",
     "text": [
      "{'name': 'Sugar', 'price': '300', 'weight': '2KG'}\n"
     ]
    }
   ],
   "source": [
    "my_dict = {\n",
    "    \"name\": \"Sugar\",\n",
    "    \"price\": 250.50,\n",
    "    \"weight\": \"1KG\"\n",
    "}\n",
    "\n",
    "my_dict.update({\"price\": \"300\", \"weight\": \"2KG\"})\n",
    "\n",
    "print(my_dict)"
   ]
  },
  {
   "cell_type": "code",
   "execution_count": 9,
   "metadata": {},
   "outputs": [
    {
     "name": "stdout",
     "output_type": "stream",
     "text": [
      "{'name': 'Sugar', 'price': 250.5, 'weight': '1KG', 'color': 'White'}\n"
     ]
    }
   ],
   "source": [
    "my_dict = {\n",
    "    \"name\": \"Sugar\",\n",
    "    \"price\": 250.50,\n",
    "    \"weight\": \"1KG\"\n",
    "}\n",
    "\n",
    "my_dict[\"color\"] = \"White\"\n",
    "\n",
    "print(my_dict)"
   ]
  },
  {
   "cell_type": "code",
   "execution_count": 10,
   "metadata": {},
   "outputs": [
    {
     "name": "stdout",
     "output_type": "stream",
     "text": [
      "{'name': 'Sugar', 'price': 250.5}\n"
     ]
    }
   ],
   "source": [
    "my_dict = {\n",
    "    \"name\": \"Sugar\",\n",
    "    \"price\": 250.50,\n",
    "    \"weight\": \"1KG\"\n",
    "}\n",
    "\n",
    "my_dict.pop(\"weight\")\n",
    "print(my_dict)"
   ]
  },
  {
   "cell_type": "code",
   "execution_count": 11,
   "metadata": {},
   "outputs": [
    {
     "name": "stdout",
     "output_type": "stream",
     "text": [
      "{'name': 'Sugar', 'price': 250.5}\n"
     ]
    }
   ],
   "source": [
    "my_dict = {\n",
    "    \"name\": \"Sugar\",\n",
    "    \"price\": 250.50,\n",
    "    \"weight\": \"1KG\"\n",
    "}\n",
    "\n",
    "del my_dict[\"weight\"]\n",
    "print(my_dict)"
   ]
  },
  {
   "cell_type": "code",
   "execution_count": 13,
   "metadata": {},
   "outputs": [
    {
     "ename": "NameError",
     "evalue": "name 'my_dict' is not defined",
     "output_type": "error",
     "traceback": [
      "\u001b[0;31m---------------------------------------------------------------------------\u001b[0m",
      "\u001b[0;31mNameError\u001b[0m                                 Traceback (most recent call last)",
      "Cell \u001b[0;32mIn[13], line 8\u001b[0m\n\u001b[1;32m      1\u001b[0m my_dict \u001b[38;5;241m=\u001b[39m {\n\u001b[1;32m      2\u001b[0m     \u001b[38;5;124m\"\u001b[39m\u001b[38;5;124mname\u001b[39m\u001b[38;5;124m\"\u001b[39m: \u001b[38;5;124m\"\u001b[39m\u001b[38;5;124mSugar\u001b[39m\u001b[38;5;124m\"\u001b[39m,\n\u001b[1;32m      3\u001b[0m     \u001b[38;5;124m\"\u001b[39m\u001b[38;5;124mprice\u001b[39m\u001b[38;5;124m\"\u001b[39m: \u001b[38;5;241m250.50\u001b[39m,\n\u001b[1;32m      4\u001b[0m     \u001b[38;5;124m\"\u001b[39m\u001b[38;5;124mweight\u001b[39m\u001b[38;5;124m\"\u001b[39m: \u001b[38;5;124m\"\u001b[39m\u001b[38;5;124m1KG\u001b[39m\u001b[38;5;124m\"\u001b[39m\n\u001b[1;32m      5\u001b[0m }\n\u001b[1;32m      7\u001b[0m \u001b[38;5;28;01mdel\u001b[39;00m my_dict\n\u001b[0;32m----> 8\u001b[0m \u001b[38;5;28mprint\u001b[39m(\u001b[38;5;28mlen\u001b[39m(\u001b[43mmy_dict\u001b[49m))\n",
      "\u001b[0;31mNameError\u001b[0m: name 'my_dict' is not defined"
     ]
    }
   ],
   "source": [
    "my_dict = {\n",
    "    \"name\": \"Sugar\",\n",
    "    \"price\": 250.50,\n",
    "    \"weight\": \"1KG\"\n",
    "}\n",
    "\n",
    "del my_dict\n",
    "print(len(my_dict))"
   ]
  },
  {
   "cell_type": "code",
   "execution_count": 1,
   "metadata": {},
   "outputs": [
    {
     "name": "stdout",
     "output_type": "stream",
     "text": [
      "{}\n",
      "0\n"
     ]
    }
   ],
   "source": [
    "my_dict = {\n",
    "    \"name\": \"Sugar\",\n",
    "    \"price\": 250.50,\n",
    "    \"weight\": \"1KG\"\n",
    "}\n",
    "\n",
    "my_dict.clear()\n",
    "print(my_dict)\n",
    "print(len(my_dict))"
   ]
  },
  {
   "cell_type": "code",
   "execution_count": 17,
   "metadata": {},
   "outputs": [
    {
     "name": "stdout",
     "output_type": "stream",
     "text": [
      "{'name': 'Sugar', 'price': 250.5, 'weight': '1KG'}\n"
     ]
    }
   ],
   "source": [
    "my_dict = {\n",
    "    \"name\": \"Sugar\",\n",
    "    \"price\": 250.50,\n",
    "    \"weight\": \"1KG\"\n",
    "}\n",
    "\n",
    "my_dict_1 = my_dict.copy()\n",
    "print(my_dict_1)"
   ]
  },
  {
   "cell_type": "code",
   "execution_count": 3,
   "metadata": {},
   "outputs": [
    {
     "name": "stdout",
     "output_type": "stream",
     "text": [
      "{'a': 1, 'b': 3}\n",
      "2\n"
     ]
    }
   ],
   "source": [
    "d_1 = {'a': 1}\n",
    "d_2 = {'b': 3}\n",
    "\n",
    "d_3 = d_1 | d_2\n",
    "\n",
    "print(d_3)\n",
    "print(len(d_3))"
   ]
  },
  {
   "cell_type": "markdown",
   "metadata": {},
   "source": [
    "UNPACKING"
   ]
  },
  {
   "cell_type": "code",
   "execution_count": 1,
   "metadata": {},
   "outputs": [
    {
     "name": "stdout",
     "output_type": "stream",
     "text": [
      "name Sugar\n",
      "price 250.5\n",
      "weight 1KG\n"
     ]
    }
   ],
   "source": [
    "my_dict = {\n",
    "    \"name\": \"Sugar\",\n",
    "    \"price\": 250.50,\n",
    "    \"weight\": \"1KG\"\n",
    "}\n",
    "\n",
    "for key, value in my_dict.items():\n",
    "    print(key, value)"
   ]
  },
  {
   "cell_type": "code",
   "execution_count": 2,
   "metadata": {},
   "outputs": [
    {
     "name": "stdout",
     "output_type": "stream",
     "text": [
      "name\n",
      "price\n",
      "weight\n"
     ]
    }
   ],
   "source": [
    "my_dict = {\n",
    "    \"name\": \"Sugar\",\n",
    "    \"price\": 250.50,\n",
    "    \"weight\": \"1KG\"\n",
    "}\n",
    "\n",
    "for key in my_dict.keys():\n",
    "    print(key)"
   ]
  },
  {
   "cell_type": "code",
   "execution_count": 3,
   "metadata": {},
   "outputs": [
    {
     "name": "stdout",
     "output_type": "stream",
     "text": [
      "Sugar\n",
      "250.5\n",
      "1KG\n"
     ]
    }
   ],
   "source": [
    "my_dict = {\n",
    "    \"name\": \"Sugar\",\n",
    "    \"price\": 250.50,\n",
    "    \"weight\": \"1KG\"\n",
    "}\n",
    "\n",
    "for value in my_dict.values():\n",
    "    print(value)"
   ]
  }
 ],
 "metadata": {
  "kernelspec": {
   "display_name": "Python 3",
   "language": "python",
   "name": "python3"
  },
  "language_info": {
   "codemirror_mode": {
    "name": "ipython",
    "version": 3
   },
   "file_extension": ".py",
   "mimetype": "text/x-python",
   "name": "python",
   "nbconvert_exporter": "python",
   "pygments_lexer": "ipython3",
   "version": "3.13.0"
  }
 },
 "nbformat": 4,
 "nbformat_minor": 2
}
