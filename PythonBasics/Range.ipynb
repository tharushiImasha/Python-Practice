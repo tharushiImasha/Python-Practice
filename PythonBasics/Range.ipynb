{
 "cells": [
  {
   "cell_type": "markdown",
   "metadata": {},
   "source": [
    "RANGE"
   ]
  },
  {
   "cell_type": "code",
   "execution_count": 1,
   "metadata": {},
   "outputs": [
    {
     "name": "stdout",
     "output_type": "stream",
     "text": [
      "<class 'range'>\n",
      "3\n",
      "5\n"
     ]
    }
   ],
   "source": [
    "my_range = range(1, 11, 2)\n",
    "print(type(my_range))\n",
    "print(my_range[1])\n",
    "print(len(my_range))"
   ]
  },
  {
   "cell_type": "code",
   "execution_count": 5,
   "metadata": {},
   "outputs": [
    {
     "name": "stdout",
     "output_type": "stream",
     "text": [
      "1\n",
      "3\n",
      "5\n",
      "7\n",
      "9\n",
      "1 3 5 7 9\n"
     ]
    }
   ],
   "source": [
    "my_range = range(1, 11, 2)\n",
    "for n in my_range:\n",
    "  print(n)\n",
    "\n",
    "print(*my_range)"
   ]
  },
  {
   "cell_type": "markdown",
   "metadata": {},
   "source": [
    "DICTIONARY"
   ]
  },
  {
   "cell_type": "code",
   "execution_count": 3,
   "metadata": {},
   "outputs": [
    {
     "name": "stdout",
     "output_type": "stream",
     "text": [
      "{'name': 'Sugar', 'price': 250.5, 'weight': '1KG'}\n",
      "<class 'dict'>\n",
      "Sugar\n"
     ]
    }
   ],
   "source": [
    "my_dict = {\n",
    "    \"name\": \"Sugar\",\n",
    "    \"price\": 250.50,\n",
    "    \"weight\": \"1KG\"\n",
    "}\n",
    "\n",
    "print(my_dict)\n",
    "print(type(my_dict))\n",
    "print(my_dict[\"name\"])"
   ]
  }
 ],
 "metadata": {
  "kernelspec": {
   "display_name": "Python 3",
   "language": "python",
   "name": "python3"
  },
  "language_info": {
   "codemirror_mode": {
    "name": "ipython",
    "version": 3
   },
   "file_extension": ".py",
   "mimetype": "text/x-python",
   "name": "python",
   "nbconvert_exporter": "python",
   "pygments_lexer": "ipython3",
   "version": "3.13.0"
  }
 },
 "nbformat": 4,
 "nbformat_minor": 2
}
