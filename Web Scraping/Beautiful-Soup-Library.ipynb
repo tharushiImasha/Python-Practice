{
 "cells": [
  {
   "cell_type": "code",
   "execution_count": 8,
   "metadata": {},
   "outputs": [
    {
     "name": "stdout",
     "output_type": "stream",
     "text": [
      "<title>The Dormouse's story</title>\n",
      "<p class=\"title\"><b>The Dormouse's story</b></p>\n",
      "<a href='http://example.com/elsie\" class=' id=\"link1\" sister\"=\"\">Elsie</a>\n",
      "P tag -  <p class=\"title\"><b>The Dormouse's story</b></p>\n",
      "\n",
      "P tag all -  [<p class=\"title\"><b>The Dormouse's story</b></p>, <p class=\"story\">Once upon a time there were three little sisters; and their names were\n",
      "<a href='http://example.com/elsie\" class=' id=\"link1\" sister\"=\"\">Elsie</a>,\n",
      "<a href='http://example.com/lacie\" class=' id=\"link2\" sister\"=\"\">Lacie</a> and\n",
      "<a href='http://example.com/tillie\" class=' id=\"link3\" sister\"=\"\">Tillie</a>;\n",
      "and they lived at the bottom of a well.</p>, <p class=\"story\">...</p>]\n"
     ]
    }
   ],
   "source": [
    "from bs4 import BeautifulSoup\n",
    "\n",
    "html_doc = \"\"\"<html><head><title>The Dormouse's story</title></head>\n",
    "<body>\n",
    "<p class=\"title\"><b>The Dormouse's story</b></p>\n",
    "<p class=\"story\">Once upon a time there were three little sisters; and their names were\n",
    "<a href=\"http://example.com/elsie&quot; class=\"sister\" id=\"link1\">Elsie</a>,\n",
    "<a href=\"http://example.com/lacie&quot; class=\"sister\" id=\"link2\">Lacie</a> and\n",
    "<a href=\"http://example.com/tillie&quot; class=\"sister\" id=\"link3\">Tillie</a>;\n",
    "and they lived at the bottom of a well.</p>\n",
    "<p class=\"story\">...</p>\n",
    "\"\"\"\n",
    "\n",
    "soup = BeautifulSoup(html_doc, 'html.parser')\n",
    "\n",
    "print(soup.title)\n",
    "print(soup.p)\n",
    "print(soup.a)\n",
    "\n",
    "print(\"P tag - \", soup.find('p'))\n",
    "\n",
    "print(\"\")\n",
    "\n",
    "print(\"P tag all - \", soup.find_all('p'))\n"
   ]
  },
  {
   "cell_type": "markdown",
   "metadata": {},
   "source": [
    "EXERSICE"
   ]
  },
  {
   "cell_type": "code",
   "execution_count": null,
   "metadata": {},
   "outputs": [
    {
     "name": "stdout",
     "output_type": "stream",
     "text": [
      "Successfully fetched the page\n",
      "<h1>Example Domain</h1>\n"
     ]
    }
   ],
   "source": [
    "from bs4 import BeautifulSoup\n",
    "import requests\n",
    "\n",
    "url = 'http://example.com'\n",
    "\n",
    "response = requests.get(url)\n",
    "\n",
    "if response.status_code == 200:\n",
    "    print(\"Successfully fetched the page\")\n",
    "   \n",
    "    soup = BeautifulSoup(response.text, 'html.parser')\n",
    "\n",
    "    heading = soup.find('h1')\n",
    "    \n",
    "    if heading:\n",
    "        print(heading)\n",
    "    else:\n",
    "        print(\"There are no main headings\")\n",
    "    \n",
    "else:\n",
    "    print(\"Some error happend while fetching the page\")"
   ]
  }
 ],
 "metadata": {
  "kernelspec": {
   "display_name": ".venv",
   "language": "python",
   "name": "python3"
  },
  "language_info": {
   "codemirror_mode": {
    "name": "ipython",
    "version": 3
   },
   "file_extension": ".py",
   "mimetype": "text/x-python",
   "name": "python",
   "nbconvert_exporter": "python",
   "pygments_lexer": "ipython3",
   "version": "3.13.0"
  }
 },
 "nbformat": 4,
 "nbformat_minor": 2
}
